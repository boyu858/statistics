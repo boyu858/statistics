{
 "cells": [
  {
   "cell_type": "markdown",
   "metadata": {},
   "source": [
    "# 第一次作业（2024/02/24）(死了——没写第2题)"
   ]
  },
  {
   "cell_type": "markdown",
   "metadata": {},
   "source": [
    "### 放眼世界：想出至少5 个你渴望去旅游的地方。"
   ]
  },
  {
   "cell_type": "markdown",
   "metadata": {},
   "source": [
    "####  将这些地方存储在一个列表中，并确保其中的元素不是按字母顺序排列的;"
   ]
  },
  {
   "cell_type": "code",
   "execution_count": 1,
   "metadata": {},
   "outputs": [],
   "source": [
    "tour_lis = ['Thailand','Belgium','Morocco','France','Portugal','Netherlands']"
   ]
  },
  {
   "cell_type": "markdown",
   "metadata": {},
   "source": [
    "#### 按原始排列顺序打印该列表。不要考虑输出是否整洁的问题，只管打印原始Python 列表;"
   ]
  },
  {
   "cell_type": "code",
   "execution_count": 2,
   "metadata": {},
   "outputs": [
    {
     "name": "stdout",
     "output_type": "stream",
     "text": [
      "['Thailand', 'Belgium', 'Morocco', 'France', 'Portugal', 'Netherlands']\n"
     ]
    }
   ],
   "source": [
    "print(tour_lis)"
   ]
  },
  {
   "cell_type": "markdown",
   "metadata": {},
   "source": [
    "#### 使用sorted()按字母顺序打印这个列表，同时不要修改它"
   ]
  },
  {
   "cell_type": "code",
   "execution_count": 3,
   "metadata": {},
   "outputs": [
    {
     "name": "stdout",
     "output_type": "stream",
     "text": [
      "['Belgium', 'France', 'Morocco', 'Netherlands', 'Portugal', 'Thailand']\n"
     ]
    }
   ],
   "source": [
    "print(sorted(tour_lis))"
   ]
  },
  {
   "cell_type": "markdown",
   "metadata": {},
   "source": [
    "#### 再次打印该列表，核实排列顺序未变"
   ]
  },
  {
   "cell_type": "code",
   "execution_count": 4,
   "metadata": {},
   "outputs": [
    {
     "name": "stdout",
     "output_type": "stream",
     "text": [
      "['Thailand', 'Belgium', 'Morocco', 'France', 'Portugal', 'Netherlands']\n"
     ]
    }
   ],
   "source": [
    "print(tour_lis)"
   ]
  },
  {
   "cell_type": "markdown",
   "metadata": {},
   "source": [
    "排列顺序未变"
   ]
  },
  {
   "cell_type": "markdown",
   "metadata": {},
   "source": [
    "#### 使用sorted()按与字母顺序相反的顺序打印这个列表，同时不要修改它"
   ]
  },
  {
   "cell_type": "code",
   "execution_count": 5,
   "metadata": {},
   "outputs": [
    {
     "name": "stdout",
     "output_type": "stream",
     "text": [
      "['Thailand', 'Portugal', 'Netherlands', 'Morocco', 'France', 'Belgium']\n"
     ]
    }
   ],
   "source": [
    "print(sorted(tour_lis , reverse = True))"
   ]
  },
  {
   "cell_type": "markdown",
   "metadata": {},
   "source": [
    "#### 再次打印该列表，核实排列顺序未变"
   ]
  },
  {
   "cell_type": "code",
   "execution_count": 6,
   "metadata": {},
   "outputs": [
    {
     "name": "stdout",
     "output_type": "stream",
     "text": [
      "['Thailand', 'Belgium', 'Morocco', 'France', 'Portugal', 'Netherlands']\n"
     ]
    }
   ],
   "source": [
    "print(tour_lis)"
   ]
  },
  {
   "cell_type": "markdown",
   "metadata": {},
   "source": [
    "#### 使用reverse()修改列表元素的排列顺序。打印该列表，核实排列顺序确实变了"
   ]
  },
  {
   "cell_type": "code",
   "execution_count": 7,
   "metadata": {},
   "outputs": [
    {
     "name": "stdout",
     "output_type": "stream",
     "text": [
      "['Thailand', 'Belgium', 'Morocco', 'France', 'Portugal', 'Netherlands']\n",
      "['Netherlands', 'Portugal', 'France', 'Morocco', 'Belgium', 'Thailand']\n"
     ]
    }
   ],
   "source": [
    "print(tour_lis)\n",
    "tour_lis.reverse()\n",
    "print(tour_lis)"
   ]
  },
  {
   "cell_type": "markdown",
   "metadata": {},
   "source": [
    "排列顺序确实变了"
   ]
  },
  {
   "cell_type": "markdown",
   "metadata": {},
   "source": [
    "#### 使用reverse()再次修改列表元素的排列顺序。打印该列表，核实已恢复到原来的排列顺序"
   ]
  },
  {
   "cell_type": "code",
   "execution_count": 8,
   "metadata": {},
   "outputs": [
    {
     "name": "stdout",
     "output_type": "stream",
     "text": [
      "['Netherlands', 'Portugal', 'France', 'Morocco', 'Belgium', 'Thailand']\n",
      "['Thailand', 'Belgium', 'Morocco', 'France', 'Portugal', 'Netherlands']\n"
     ]
    }
   ],
   "source": [
    "print(tour_lis)\n",
    "tour_lis.reverse()\n",
    "print(tour_lis)"
   ]
  },
  {
   "cell_type": "markdown",
   "metadata": {},
   "source": [
    "已恢复到原来的排列顺序"
   ]
  },
  {
   "cell_type": "markdown",
   "metadata": {},
   "source": [
    "#### 使用sort()修改该列表，使其元素按字母顺序排列。打印该列表，核实排列顺序确实变了"
   ]
  },
  {
   "cell_type": "code",
   "execution_count": 9,
   "metadata": {},
   "outputs": [
    {
     "name": "stdout",
     "output_type": "stream",
     "text": [
      "['Thailand', 'Belgium', 'Morocco', 'France', 'Portugal', 'Netherlands']\n",
      "['Belgium', 'France', 'Morocco', 'Netherlands', 'Portugal', 'Thailand']\n"
     ]
    }
   ],
   "source": [
    "print(tour_lis)\n",
    "tour_lis.sort()\n",
    "print(tour_lis)"
   ]
  },
  {
   "cell_type": "markdown",
   "metadata": {},
   "source": [
    "排列顺序确实变了"
   ]
  },
  {
   "cell_type": "markdown",
   "metadata": {},
   "source": [
    "#### 使用sort()修改该列表，使其元素按与字母顺序相反的顺序排列。打印该列表，核实排列顺序确实变了"
   ]
  },
  {
   "cell_type": "code",
   "execution_count": 10,
   "metadata": {},
   "outputs": [
    {
     "name": "stdout",
     "output_type": "stream",
     "text": [
      "['Belgium', 'France', 'Morocco', 'Netherlands', 'Portugal', 'Thailand']\n",
      "['Thailand', 'Portugal', 'Netherlands', 'Morocco', 'France', 'Belgium']\n"
     ]
    }
   ],
   "source": [
    "print(tour_lis)\n",
    "tour_lis.sort(reverse = True)\n",
    "print(tour_lis)"
   ]
  },
  {
   "cell_type": "markdown",
   "metadata": {},
   "source": [
    "排列顺序确实变了"
   ]
  },
  {
   "cell_type": "code",
   "execution_count": null,
   "metadata": {},
   "outputs": [],
   "source": []
  }
 ],
 "metadata": {
  "kernelspec": {
   "display_name": "Python 3",
   "language": "python",
   "name": "python3"
  },
  "language_info": {
   "codemirror_mode": {
    "name": "ipython",
    "version": 3
   },
   "file_extension": ".py",
   "mimetype": "text/x-python",
   "name": "python",
   "nbconvert_exporter": "python",
   "pygments_lexer": "ipython3",
   "version": "3.7.0"
  }
 },
 "nbformat": 4,
 "nbformat_minor": 2
}
